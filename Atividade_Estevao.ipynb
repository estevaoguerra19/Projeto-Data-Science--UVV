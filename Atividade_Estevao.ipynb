{
  "cells": [
    {
      "cell_type": "markdown",
      "metadata": {
        "id": "x4M2bx57qwI7"
      },
      "source": [
        "<?xml version=\"1.0\" encoding=\"UTF-8\"?>\n",
        "<html>\n",
        "  <body>\n",
        "    <header></header>\n",
        "        <CENTER>\n",
        "          <img src=\"https://www.uvv.br/wp-content/themes/uvvBr/templates/assets//img/logouvv.svg\" alt=\"UVV-LOGO\" style = width=\"100px\"; height=\"100px\">\n",
        "        </CENTER>\n",
        "        <CENTER><b>DATA SCIENCE PROJECT</b></CENTER><br/>\n",
        "        <CENTER><b>WORKFLOW</b></CENTER><br/>"
      ]
    },
    {
      "cell_type": "markdown",
      "metadata": {
        "id": "JuWHwcQCGDnT"
      },
      "source": [
        "# **ETAPA 1: ETL - Extract, Transform and Load**"
      ]
    },
    {
      "cell_type": "markdown",
      "metadata": {
        "id": "KqkXZtzOBlEc"
      },
      "source": [
        "## Atividade 1 (A1): Pesquisar o dataset"
      ]
    },
    {
      "cell_type": "markdown",
      "metadata": {
        "id": "I0mlPiJSDHje"
      },
      "source": [
        "**DATASOURCE** - Colocar seu link aqui: [Link](https://www.kaggle.com/datasets/geometrein/helsinki-city-bikes)"
      ]
    },
    {
      "cell_type": "markdown",
      "metadata": {
        "id": "uBnx71_5DHu7"
      },
      "source": [
        "**DATASET** - Colocar seu link aqui: [Link](https://)"
      ]
    },
    {
      "cell_type": "code",
      "execution_count": 1,
      "metadata": {},
      "outputs": [],
      "source": [
        "import pandas as pd\n",
        "import numpy as np"
      ]
    },
    {
      "cell_type": "code",
      "execution_count": 2,
      "metadata": {},
      "outputs": [
        {
          "data": {
            "text/html": [
              "<div>\n",
              "<style scoped>\n",
              "    .dataframe tbody tr th:only-of-type {\n",
              "        vertical-align: middle;\n",
              "    }\n",
              "\n",
              "    .dataframe tbody tr th {\n",
              "        vertical-align: top;\n",
              "    }\n",
              "\n",
              "    .dataframe thead th {\n",
              "        text-align: right;\n",
              "    }\n",
              "</style>\n",
              "<table border=\"1\" class=\"dataframe\">\n",
              "  <thead>\n",
              "    <tr style=\"text-align: right;\">\n",
              "      <th></th>\n",
              "      <th>Unnamed: 0</th>\n",
              "      <th>departure</th>\n",
              "      <th>return</th>\n",
              "      <th>departure_id</th>\n",
              "      <th>departure_name</th>\n",
              "      <th>return_id</th>\n",
              "      <th>return_name</th>\n",
              "      <th>distance (m)</th>\n",
              "      <th>duration (sec.)</th>\n",
              "      <th>avg_speed (km/h)</th>\n",
              "      <th>departure_latitude</th>\n",
              "      <th>departure_longitude</th>\n",
              "      <th>return_latitude</th>\n",
              "      <th>return_longitude</th>\n",
              "      <th>Air temperature (degC)</th>\n",
              "    </tr>\n",
              "  </thead>\n",
              "  <tbody>\n",
              "    <tr>\n",
              "      <th>0</th>\n",
              "      <td>0</td>\n",
              "      <td>2020-03-23 06:09:44</td>\n",
              "      <td>2020-03-23 06:16:26</td>\n",
              "      <td>86</td>\n",
              "      <td>Kuusitie</td>\n",
              "      <td>111.0</td>\n",
              "      <td>Esterinportti</td>\n",
              "      <td>1747.0</td>\n",
              "      <td>401.0</td>\n",
              "      <td>0.261397</td>\n",
              "      <td>60.195245</td>\n",
              "      <td>24.901900</td>\n",
              "      <td>60.197572</td>\n",
              "      <td>24.926781</td>\n",
              "      <td>0.9</td>\n",
              "    </tr>\n",
              "    <tr>\n",
              "      <th>1</th>\n",
              "      <td>1</td>\n",
              "      <td>2020-03-23 06:11:58</td>\n",
              "      <td>2020-03-23 06:26:31</td>\n",
              "      <td>26</td>\n",
              "      <td>Kamppi (M)</td>\n",
              "      <td>10.0</td>\n",
              "      <td>Kasarmitori</td>\n",
              "      <td>1447.0</td>\n",
              "      <td>869.0</td>\n",
              "      <td>0.099908</td>\n",
              "      <td>60.168610</td>\n",
              "      <td>24.930537</td>\n",
              "      <td>60.165017</td>\n",
              "      <td>24.949473</td>\n",
              "      <td>0.9</td>\n",
              "    </tr>\n",
              "    <tr>\n",
              "      <th>2</th>\n",
              "      <td>2</td>\n",
              "      <td>2020-03-23 06:16:29</td>\n",
              "      <td>2020-03-23 06:24:23</td>\n",
              "      <td>268</td>\n",
              "      <td>Porolahden koulu</td>\n",
              "      <td>254.0</td>\n",
              "      <td>Agnetankuja</td>\n",
              "      <td>1772.0</td>\n",
              "      <td>469.0</td>\n",
              "      <td>0.226695</td>\n",
              "      <td>60.195540</td>\n",
              "      <td>25.053581</td>\n",
              "      <td>60.187234</td>\n",
              "      <td>25.036412</td>\n",
              "      <td>0.9</td>\n",
              "    </tr>\n",
              "    <tr>\n",
              "      <th>3</th>\n",
              "      <td>3</td>\n",
              "      <td>2020-03-23 06:33:53</td>\n",
              "      <td>2020-03-23 07:14:03</td>\n",
              "      <td>751</td>\n",
              "      <td>Vallipolku</td>\n",
              "      <td>106.0</td>\n",
              "      <td>Korppaanmäentie</td>\n",
              "      <td>7456.0</td>\n",
              "      <td>2406.0</td>\n",
              "      <td>0.185935</td>\n",
              "      <td>60.227827</td>\n",
              "      <td>24.819614</td>\n",
              "      <td>60.203474</td>\n",
              "      <td>24.898930</td>\n",
              "      <td>0.9</td>\n",
              "    </tr>\n",
              "    <tr>\n",
              "      <th>4</th>\n",
              "      <td>4</td>\n",
              "      <td>2020-03-23 06:36:09</td>\n",
              "      <td>2020-03-23 07:04:10</td>\n",
              "      <td>62</td>\n",
              "      <td>Länsisatamankatu</td>\n",
              "      <td>121.0</td>\n",
              "      <td>Vilhonvuorenkatu</td>\n",
              "      <td>7120.0</td>\n",
              "      <td>1679.0</td>\n",
              "      <td>0.254437</td>\n",
              "      <td>60.158928</td>\n",
              "      <td>24.909692</td>\n",
              "      <td>60.186463</td>\n",
              "      <td>24.967872</td>\n",
              "      <td>0.9</td>\n",
              "    </tr>\n",
              "  </tbody>\n",
              "</table>\n",
              "</div>"
            ],
            "text/plain": [
              "   Unnamed: 0            departure               return  departure_id  \\\n",
              "0           0  2020-03-23 06:09:44  2020-03-23 06:16:26            86   \n",
              "1           1  2020-03-23 06:11:58  2020-03-23 06:26:31            26   \n",
              "2           2  2020-03-23 06:16:29  2020-03-23 06:24:23           268   \n",
              "3           3  2020-03-23 06:33:53  2020-03-23 07:14:03           751   \n",
              "4           4  2020-03-23 06:36:09  2020-03-23 07:04:10            62   \n",
              "\n",
              "     departure_name  return_id       return_name  distance (m)  \\\n",
              "0          Kuusitie      111.0     Esterinportti        1747.0   \n",
              "1        Kamppi (M)       10.0       Kasarmitori        1447.0   \n",
              "2  Porolahden koulu      254.0       Agnetankuja        1772.0   \n",
              "3        Vallipolku      106.0   Korppaanmäentie        7456.0   \n",
              "4  Länsisatamankatu      121.0  Vilhonvuorenkatu        7120.0   \n",
              "\n",
              "   duration (sec.)  avg_speed (km/h)  departure_latitude  departure_longitude  \\\n",
              "0            401.0          0.261397           60.195245            24.901900   \n",
              "1            869.0          0.099908           60.168610            24.930537   \n",
              "2            469.0          0.226695           60.195540            25.053581   \n",
              "3           2406.0          0.185935           60.227827            24.819614   \n",
              "4           1679.0          0.254437           60.158928            24.909692   \n",
              "\n",
              "   return_latitude  return_longitude  Air temperature (degC)  \n",
              "0        60.197572         24.926781                     0.9  \n",
              "1        60.165017         24.949473                     0.9  \n",
              "2        60.187234         25.036412                     0.9  \n",
              "3        60.203474         24.898930                     0.9  \n",
              "4        60.186463         24.967872                     0.9  "
            ]
          },
          "execution_count": 2,
          "metadata": {},
          "output_type": "execute_result"
        }
      ],
      "source": [
        "data = pd.read_csv('data/data.csv', nrows=100000)\n",
        "data.head()"
      ]
    },
    {
      "cell_type": "markdown",
      "metadata": {
        "id": "i7_sfbPcDkzl"
      },
      "source": [
        "## Atividade 2 (A2): Descrição / Classificação de todas as colunas"
      ]
    },
    {
      "cell_type": "markdown",
      "metadata": {
        "id": "NS_nrOh1DvLp"
      },
      "source": [
        "**DESCRIÇÃO:**\n",
        "\n",
        "*   COLUNA 0:\n",
        "*   COLUNA 1:\n",
        "* ..."
      ]
    },
    {
      "cell_type": "markdown",
      "metadata": {
        "id": "uw3gTCzTEKqv"
      },
      "source": [
        "**CLASSIFICAÇÃO - QUALITATIVA (NOMINAL OU ORDINAL) OU QUANTITATIVA (DISCRETA OU CONTÍNUA):**\n",
        "\n",
        "*   COLUNA 0:\n",
        "*   COLUNA 1:\n",
        "* ..."
      ]
    },
    {
      "cell_type": "markdown",
      "metadata": {
        "id": "VkC58o7bBlOT"
      },
      "source": [
        "# **ETAPA 2: Data Exploration**"
      ]
    },
    {
      "cell_type": "markdown",
      "metadata": {
        "id": "x0yjX0RFE9XO"
      },
      "source": [
        "## Atividade (A1): Definir / Eliminar (DROPAR) colunas **NÃO** relevantes ao Projeto."
      ]
    },
    {
      "cell_type": "code",
      "execution_count": 3,
      "metadata": {
        "id": "i4pdQiYQJeFD"
      },
      "outputs": [],
      "source": [
        "data.drop(columns=['Unnamed: 0', 'departure_latitude', 'return_latitude', 'departure_longitude', 'return_longitude'], inplace=True)"
      ]
    },
    {
      "cell_type": "code",
      "execution_count": 4,
      "metadata": {},
      "outputs": [
        {
          "data": {
            "text/html": [
              "<div>\n",
              "<style scoped>\n",
              "    .dataframe tbody tr th:only-of-type {\n",
              "        vertical-align: middle;\n",
              "    }\n",
              "\n",
              "    .dataframe tbody tr th {\n",
              "        vertical-align: top;\n",
              "    }\n",
              "\n",
              "    .dataframe thead th {\n",
              "        text-align: right;\n",
              "    }\n",
              "</style>\n",
              "<table border=\"1\" class=\"dataframe\">\n",
              "  <thead>\n",
              "    <tr style=\"text-align: right;\">\n",
              "      <th></th>\n",
              "      <th>departure</th>\n",
              "      <th>return</th>\n",
              "      <th>departure_id</th>\n",
              "      <th>departure_name</th>\n",
              "      <th>return_id</th>\n",
              "      <th>return_name</th>\n",
              "      <th>distance (m)</th>\n",
              "      <th>duration (sec.)</th>\n",
              "      <th>avg_speed (km/h)</th>\n",
              "      <th>Air temperature (degC)</th>\n",
              "    </tr>\n",
              "  </thead>\n",
              "  <tbody>\n",
              "    <tr>\n",
              "      <th>0</th>\n",
              "      <td>2020-03-23 06:09:44</td>\n",
              "      <td>2020-03-23 06:16:26</td>\n",
              "      <td>86</td>\n",
              "      <td>Kuusitie</td>\n",
              "      <td>111.0</td>\n",
              "      <td>Esterinportti</td>\n",
              "      <td>1747.0</td>\n",
              "      <td>401.0</td>\n",
              "      <td>0.261397</td>\n",
              "      <td>0.9</td>\n",
              "    </tr>\n",
              "    <tr>\n",
              "      <th>1</th>\n",
              "      <td>2020-03-23 06:11:58</td>\n",
              "      <td>2020-03-23 06:26:31</td>\n",
              "      <td>26</td>\n",
              "      <td>Kamppi (M)</td>\n",
              "      <td>10.0</td>\n",
              "      <td>Kasarmitori</td>\n",
              "      <td>1447.0</td>\n",
              "      <td>869.0</td>\n",
              "      <td>0.099908</td>\n",
              "      <td>0.9</td>\n",
              "    </tr>\n",
              "    <tr>\n",
              "      <th>2</th>\n",
              "      <td>2020-03-23 06:16:29</td>\n",
              "      <td>2020-03-23 06:24:23</td>\n",
              "      <td>268</td>\n",
              "      <td>Porolahden koulu</td>\n",
              "      <td>254.0</td>\n",
              "      <td>Agnetankuja</td>\n",
              "      <td>1772.0</td>\n",
              "      <td>469.0</td>\n",
              "      <td>0.226695</td>\n",
              "      <td>0.9</td>\n",
              "    </tr>\n",
              "  </tbody>\n",
              "</table>\n",
              "</div>"
            ],
            "text/plain": [
              "             departure               return  departure_id    departure_name  \\\n",
              "0  2020-03-23 06:09:44  2020-03-23 06:16:26            86          Kuusitie   \n",
              "1  2020-03-23 06:11:58  2020-03-23 06:26:31            26        Kamppi (M)   \n",
              "2  2020-03-23 06:16:29  2020-03-23 06:24:23           268  Porolahden koulu   \n",
              "\n",
              "   return_id    return_name  distance (m)  duration (sec.)  avg_speed (km/h)  \\\n",
              "0      111.0  Esterinportti        1747.0            401.0          0.261397   \n",
              "1       10.0    Kasarmitori        1447.0            869.0          0.099908   \n",
              "2      254.0    Agnetankuja        1772.0            469.0          0.226695   \n",
              "\n",
              "   Air temperature (degC)  \n",
              "0                     0.9  \n",
              "1                     0.9  \n",
              "2                     0.9  "
            ]
          },
          "execution_count": 4,
          "metadata": {},
          "output_type": "execute_result"
        }
      ],
      "source": [
        "data.head(3)"
      ]
    },
    {
      "cell_type": "markdown",
      "metadata": {
        "id": "OCpRSA04EtJO"
      },
      "source": [
        "## Atividade (A2): Pesquisar / Eliminar os Valores duplicados (linhas duplicadas)"
      ]
    },
    {
      "cell_type": "code",
      "execution_count": 5,
      "metadata": {
        "id": "Y82FUeWtJewj"
      },
      "outputs": [],
      "source": [
        "data.drop_duplicates(inplace=True)"
      ]
    },
    {
      "cell_type": "code",
      "execution_count": 6,
      "metadata": {},
      "outputs": [
        {
          "name": "stdout",
          "output_type": "stream",
          "text": [
            "<class 'pandas.core.frame.DataFrame'>\n",
            "Int64Index: 99999 entries, 0 to 99999\n",
            "Data columns (total 10 columns):\n",
            " #   Column                  Non-Null Count  Dtype  \n",
            "---  ------                  --------------  -----  \n",
            " 0   departure               99999 non-null  object \n",
            " 1   return                  99999 non-null  object \n",
            " 2   departure_id            99999 non-null  int64  \n",
            " 3   departure_name          99999 non-null  object \n",
            " 4   return_id               99999 non-null  float64\n",
            " 5   return_name             99999 non-null  object \n",
            " 6   distance (m)            99999 non-null  float64\n",
            " 7   duration (sec.)         99999 non-null  float64\n",
            " 8   avg_speed (km/h)        99980 non-null  float64\n",
            " 9   Air temperature (degC)  99999 non-null  float64\n",
            "dtypes: float64(5), int64(1), object(4)\n",
            "memory usage: 8.4+ MB\n"
          ]
        }
      ],
      "source": [
        "data.info()"
      ]
    },
    {
      "cell_type": "markdown",
      "metadata": {
        "id": "4mAS4GSaCS8m"
      },
      "source": [
        "## Atividade (A3): Pesquisar / Eliminar os Valores de Sentinela (NaN: NotANumber)"
      ]
    },
    {
      "cell_type": "code",
      "execution_count": 7,
      "metadata": {
        "id": "-cF-csbwJfYJ"
      },
      "outputs": [],
      "source": [
        "data.dropna(inplace=True)"
      ]
    },
    {
      "cell_type": "code",
      "execution_count": 8,
      "metadata": {},
      "outputs": [
        {
          "name": "stdout",
          "output_type": "stream",
          "text": [
            "<class 'pandas.core.frame.DataFrame'>\n",
            "Int64Index: 99980 entries, 0 to 99999\n",
            "Data columns (total 10 columns):\n",
            " #   Column                  Non-Null Count  Dtype  \n",
            "---  ------                  --------------  -----  \n",
            " 0   departure               99980 non-null  object \n",
            " 1   return                  99980 non-null  object \n",
            " 2   departure_id            99980 non-null  int64  \n",
            " 3   departure_name          99980 non-null  object \n",
            " 4   return_id               99980 non-null  float64\n",
            " 5   return_name             99980 non-null  object \n",
            " 6   distance (m)            99980 non-null  float64\n",
            " 7   duration (sec.)         99980 non-null  float64\n",
            " 8   avg_speed (km/h)        99980 non-null  float64\n",
            " 9   Air temperature (degC)  99980 non-null  float64\n",
            "dtypes: float64(5), int64(1), object(4)\n",
            "memory usage: 8.4+ MB\n"
          ]
        }
      ],
      "source": [
        "data.info()"
      ]
    },
    {
      "cell_type": "markdown",
      "metadata": {},
      "source": [
        "## Alinhando as colunas dos dados"
      ]
    },
    {
      "cell_type": "code",
      "execution_count": 9,
      "metadata": {},
      "outputs": [
        {
          "data": {
            "text/html": [
              "<div>\n",
              "<style scoped>\n",
              "    .dataframe tbody tr th:only-of-type {\n",
              "        vertical-align: middle;\n",
              "    }\n",
              "\n",
              "    .dataframe tbody tr th {\n",
              "        vertical-align: top;\n",
              "    }\n",
              "\n",
              "    .dataframe thead th {\n",
              "        text-align: right;\n",
              "    }\n",
              "</style>\n",
              "<table border=\"1\" class=\"dataframe\">\n",
              "  <thead>\n",
              "    <tr style=\"text-align: right;\">\n",
              "      <th></th>\n",
              "      <th>departure_id</th>\n",
              "      <th>return_id</th>\n",
              "      <th>departure_name</th>\n",
              "      <th>return_name</th>\n",
              "      <th>departure</th>\n",
              "      <th>return</th>\n",
              "      <th>distance (m)</th>\n",
              "      <th>duration (sec.)</th>\n",
              "      <th>avg_speed (km/h)</th>\n",
              "      <th>Air temperature (degC)</th>\n",
              "    </tr>\n",
              "  </thead>\n",
              "  <tbody>\n",
              "    <tr>\n",
              "      <th>0</th>\n",
              "      <td>86</td>\n",
              "      <td>111.0</td>\n",
              "      <td>Kuusitie</td>\n",
              "      <td>Esterinportti</td>\n",
              "      <td>2020-03-23 06:09:44</td>\n",
              "      <td>2020-03-23 06:16:26</td>\n",
              "      <td>1747.0</td>\n",
              "      <td>401.0</td>\n",
              "      <td>0.261397</td>\n",
              "      <td>0.9</td>\n",
              "    </tr>\n",
              "    <tr>\n",
              "      <th>1</th>\n",
              "      <td>26</td>\n",
              "      <td>10.0</td>\n",
              "      <td>Kamppi (M)</td>\n",
              "      <td>Kasarmitori</td>\n",
              "      <td>2020-03-23 06:11:58</td>\n",
              "      <td>2020-03-23 06:26:31</td>\n",
              "      <td>1447.0</td>\n",
              "      <td>869.0</td>\n",
              "      <td>0.099908</td>\n",
              "      <td>0.9</td>\n",
              "    </tr>\n",
              "    <tr>\n",
              "      <th>2</th>\n",
              "      <td>268</td>\n",
              "      <td>254.0</td>\n",
              "      <td>Porolahden koulu</td>\n",
              "      <td>Agnetankuja</td>\n",
              "      <td>2020-03-23 06:16:29</td>\n",
              "      <td>2020-03-23 06:24:23</td>\n",
              "      <td>1772.0</td>\n",
              "      <td>469.0</td>\n",
              "      <td>0.226695</td>\n",
              "      <td>0.9</td>\n",
              "    </tr>\n",
              "    <tr>\n",
              "      <th>3</th>\n",
              "      <td>751</td>\n",
              "      <td>106.0</td>\n",
              "      <td>Vallipolku</td>\n",
              "      <td>Korppaanmäentie</td>\n",
              "      <td>2020-03-23 06:33:53</td>\n",
              "      <td>2020-03-23 07:14:03</td>\n",
              "      <td>7456.0</td>\n",
              "      <td>2406.0</td>\n",
              "      <td>0.185935</td>\n",
              "      <td>0.9</td>\n",
              "    </tr>\n",
              "    <tr>\n",
              "      <th>4</th>\n",
              "      <td>62</td>\n",
              "      <td>121.0</td>\n",
              "      <td>Länsisatamankatu</td>\n",
              "      <td>Vilhonvuorenkatu</td>\n",
              "      <td>2020-03-23 06:36:09</td>\n",
              "      <td>2020-03-23 07:04:10</td>\n",
              "      <td>7120.0</td>\n",
              "      <td>1679.0</td>\n",
              "      <td>0.254437</td>\n",
              "      <td>0.9</td>\n",
              "    </tr>\n",
              "  </tbody>\n",
              "</table>\n",
              "</div>"
            ],
            "text/plain": [
              "   departure_id  return_id    departure_name       return_name  \\\n",
              "0            86      111.0          Kuusitie     Esterinportti   \n",
              "1            26       10.0        Kamppi (M)       Kasarmitori   \n",
              "2           268      254.0  Porolahden koulu       Agnetankuja   \n",
              "3           751      106.0        Vallipolku   Korppaanmäentie   \n",
              "4            62      121.0  Länsisatamankatu  Vilhonvuorenkatu   \n",
              "\n",
              "             departure               return  distance (m)  duration (sec.)  \\\n",
              "0  2020-03-23 06:09:44  2020-03-23 06:16:26        1747.0            401.0   \n",
              "1  2020-03-23 06:11:58  2020-03-23 06:26:31        1447.0            869.0   \n",
              "2  2020-03-23 06:16:29  2020-03-23 06:24:23        1772.0            469.0   \n",
              "3  2020-03-23 06:33:53  2020-03-23 07:14:03        7456.0           2406.0   \n",
              "4  2020-03-23 06:36:09  2020-03-23 07:04:10        7120.0           1679.0   \n",
              "\n",
              "   avg_speed (km/h)  Air temperature (degC)  \n",
              "0          0.261397                     0.9  \n",
              "1          0.099908                     0.9  \n",
              "2          0.226695                     0.9  \n",
              "3          0.185935                     0.9  \n",
              "4          0.254437                     0.9  "
            ]
          },
          "execution_count": 9,
          "metadata": {},
          "output_type": "execute_result"
        }
      ],
      "source": [
        "data = data[['departure_id','return_id','departure_name','return_name','departure','return','distance (m)','duration (sec.)','avg_speed (km/h)','Air temperature (degC)']]\n",
        "data.head()"
      ]
    },
    {
      "cell_type": "markdown",
      "metadata": {
        "id": "GlyBq9pTBmJa"
      },
      "source": [
        "# **ETAPA 3: Data Evoluation**"
      ]
    },
    {
      "cell_type": "markdown",
      "metadata": {
        "id": "zrglkQnIRWEM"
      },
      "source": [
        "## ETAPA 3.1: Análise exploratória das Variáveis Qualitativas"
      ]
    },
    {
      "cell_type": "markdown",
      "metadata": {
        "id": "cCh6Qql4CEZ4"
      },
      "source": [
        "### Atividade (A1): Criar os Gráficos (Plotar)"
      ]
    },
    {
      "cell_type": "code",
      "execution_count": 10,
      "metadata": {},
      "outputs": [],
      "source": [
        "import matplotlib.pyplot as plt\n",
        "import seaborn as sns"
      ]
    },
    {
      "cell_type": "code",
      "execution_count": 11,
      "metadata": {},
      "outputs": [
        {
          "data": {
            "text/plain": [
              "Index(['departure_id', 'return_id', 'departure_name', 'return_name',\n",
              "       'departure', 'return', 'distance (m)', 'duration (sec.)',\n",
              "       'avg_speed (km/h)', 'Air temperature (degC)'],\n",
              "      dtype='object')"
            ]
          },
          "execution_count": 11,
          "metadata": {},
          "output_type": "execute_result"
        }
      ],
      "source": [
        "data.columns"
      ]
    },
    {
      "cell_type": "code",
      "execution_count": 12,
      "metadata": {},
      "outputs": [
        {
          "data": {
            "image/png": "[encoded data removed]",
            "text/plain": [
              "<Figure size 432x288 with 1 Axes>"
            ]
          },
          "metadata": {
            "needs_background": "light"
          },
          "output_type": "display_data"
        }
      ],
      "source": [
        "plt.plot(data['distance (m)'])\n",
        "\n",
        "plt.show()"
      ]
    },
    {
      "cell_type": "code",
      "execution_count": 13,
      "metadata": {},
      "outputs": [
        {
          "data": {
            "image/png": "[encoded data removed]",
            "text/plain": [
              "<Figure size 432x288 with 1 Axes>"
            ]
          },
          "metadata": {
            "needs_background": "light"
          },
          "output_type": "display_data"
        }
      ],
      "source": [
        "plt.plot(data['duration (sec.)'])\n",
        "\n",
        "plt.show()"
      ]
    },
    {
      "cell_type": "code",
      "execution_count": 14,
      "metadata": {},
      "outputs": [
        {
          "data": {
            "image/png": "[encoded data removed]",
            "text/plain": [
              "<Figure size 432x288 with 1 Axes>"
            ]
          },
          "metadata": {
            "needs_background": "light"
          },
          "output_type": "display_data"
        }
      ],
      "source": [
        "plt.plot(data['avg_speed (km/h)'])\n",
        "\n",
        "plt.show()"
      ]
    },
    {
      "cell_type": "code",
      "execution_count": 15,
      "metadata": {},
      "outputs": [
        {
          "data": {
            "image/png": "[encoded data removed]",
            "text/plain": [
              "<Figure size 432x288 with 1 Axes>"
            ]
          },
          "metadata": {
            "needs_background": "light"
          },
          "output_type": "display_data"
        }
      ],
      "source": [
        "plt.plot(data['Air temperature (degC)'])\n",
        "\n",
        "plt.show()"
      ]
    },
    {
      "cell_type": "markdown",
      "metadata": {
        "id": "9v-MCQAfK4eU"
      },
      "source": [
        "### Atividade (A2): Criar as Tabelas: Tabulação Cruzada (Método **crosstab**): \n",
        "\n",
        "$→$ Incluir uma coluna com valores RELATIVOS (%)."
      ]
    },
    {
      "cell_type": "code",
      "execution_count": 16,
      "metadata": {
        "id": "w59EtvtyPPM_"
      },
      "outputs": [
        {
          "data": {
            "text/html": [
              "<div>\n",
              "<style scoped>\n",
              "    .dataframe tbody tr th:only-of-type {\n",
              "        vertical-align: middle;\n",
              "    }\n",
              "\n",
              "    .dataframe tbody tr th {\n",
              "        vertical-align: top;\n",
              "    }\n",
              "\n",
              "    .dataframe thead th {\n",
              "        text-align: right;\n",
              "    }\n",
              "</style>\n",
              "<table border=\"1\" class=\"dataframe\">\n",
              "  <thead>\n",
              "    <tr style=\"text-align: right;\">\n",
              "      <th>return_name</th>\n",
              "      <th>A.I. Virtasen aukio</th>\n",
              "      <th>Aalto-yliopisto (M), Korkeakouluaukio</th>\n",
              "      <th>Aalto-yliopisto (M), Tietotie</th>\n",
              "      <th>Abraham Wetterin tie</th>\n",
              "      <th>Agnetankuja</th>\n",
              "      <th>Agronominkatu</th>\n",
              "      <th>Ahertajantie</th>\n",
              "      <th>Alakiventie</th>\n",
              "      <th>Albertinkatu</th>\n",
              "      <th>Annankatu</th>\n",
              "      <th>...</th>\n",
              "      <th>Viikin normaalikoulu</th>\n",
              "      <th>Viikin tiedepuisto</th>\n",
              "      <th>Viiskulma</th>\n",
              "      <th>Vilhonvuorenkatu</th>\n",
              "      <th>Voikukantie</th>\n",
              "      <th>Von Daehnin katu</th>\n",
              "      <th>Westendinasema</th>\n",
              "      <th>Westendintie</th>\n",
              "      <th>Yhdyskunnankuja</th>\n",
              "      <th>Ympyrätalo</th>\n",
              "    </tr>\n",
              "    <tr>\n",
              "      <th>distance (m)</th>\n",
              "      <th></th>\n",
              "      <th></th>\n",
              "      <th></th>\n",
              "      <th></th>\n",
              "      <th></th>\n",
              "      <th></th>\n",
              "      <th></th>\n",
              "      <th></th>\n",
              "      <th></th>\n",
              "      <th></th>\n",
              "      <th></th>\n",
              "      <th></th>\n",
              "      <th></th>\n",
              "      <th></th>\n",
              "      <th></th>\n",
              "      <th></th>\n",
              "      <th></th>\n",
              "      <th></th>\n",
              "      <th></th>\n",
              "      <th></th>\n",
              "      <th></th>\n",
              "    </tr>\n",
              "  </thead>\n",
              "  <tbody>\n",
              "    <tr>\n",
              "      <th>0.0</th>\n",
              "      <td>11.76</td>\n",
              "      <td>6.70</td>\n",
              "      <td>5.26</td>\n",
              "      <td>6.18</td>\n",
              "      <td>7.05</td>\n",
              "      <td>8.38</td>\n",
              "      <td>10.67</td>\n",
              "      <td>2.86</td>\n",
              "      <td>9.35</td>\n",
              "      <td>6.32</td>\n",
              "      <td>...</td>\n",
              "      <td>9.77</td>\n",
              "      <td>9.60</td>\n",
              "      <td>6.92</td>\n",
              "      <td>7.86</td>\n",
              "      <td>6.12</td>\n",
              "      <td>8.82</td>\n",
              "      <td>8.68</td>\n",
              "      <td>7.88</td>\n",
              "      <td>7.0</td>\n",
              "      <td>6.59</td>\n",
              "    </tr>\n",
              "    <tr>\n",
              "      <th>1.0</th>\n",
              "      <td>0.00</td>\n",
              "      <td>0.53</td>\n",
              "      <td>0.00</td>\n",
              "      <td>0.39</td>\n",
              "      <td>0.44</td>\n",
              "      <td>0.00</td>\n",
              "      <td>1.33</td>\n",
              "      <td>0.00</td>\n",
              "      <td>0.00</td>\n",
              "      <td>0.26</td>\n",
              "      <td>...</td>\n",
              "      <td>0.00</td>\n",
              "      <td>0.00</td>\n",
              "      <td>0.20</td>\n",
              "      <td>0.11</td>\n",
              "      <td>0.00</td>\n",
              "      <td>0.00</td>\n",
              "      <td>0.38</td>\n",
              "      <td>0.00</td>\n",
              "      <td>0.0</td>\n",
              "      <td>0.00</td>\n",
              "    </tr>\n",
              "    <tr>\n",
              "      <th>2.0</th>\n",
              "      <td>1.18</td>\n",
              "      <td>0.35</td>\n",
              "      <td>1.05</td>\n",
              "      <td>0.00</td>\n",
              "      <td>0.44</td>\n",
              "      <td>1.12</td>\n",
              "      <td>2.67</td>\n",
              "      <td>5.71</td>\n",
              "      <td>0.00</td>\n",
              "      <td>0.26</td>\n",
              "      <td>...</td>\n",
              "      <td>0.47</td>\n",
              "      <td>0.35</td>\n",
              "      <td>0.59</td>\n",
              "      <td>0.21</td>\n",
              "      <td>0.36</td>\n",
              "      <td>0.00</td>\n",
              "      <td>0.38</td>\n",
              "      <td>0.61</td>\n",
              "      <td>0.0</td>\n",
              "      <td>0.07</td>\n",
              "    </tr>\n",
              "    <tr>\n",
              "      <th>3.0</th>\n",
              "      <td>0.00</td>\n",
              "      <td>0.00</td>\n",
              "      <td>0.00</td>\n",
              "      <td>0.00</td>\n",
              "      <td>0.00</td>\n",
              "      <td>0.00</td>\n",
              "      <td>0.00</td>\n",
              "      <td>0.00</td>\n",
              "      <td>0.00</td>\n",
              "      <td>0.00</td>\n",
              "      <td>...</td>\n",
              "      <td>0.00</td>\n",
              "      <td>0.00</td>\n",
              "      <td>0.00</td>\n",
              "      <td>0.00</td>\n",
              "      <td>0.00</td>\n",
              "      <td>0.00</td>\n",
              "      <td>0.00</td>\n",
              "      <td>0.00</td>\n",
              "      <td>0.0</td>\n",
              "      <td>0.15</td>\n",
              "    </tr>\n",
              "    <tr>\n",
              "      <th>4.0</th>\n",
              "      <td>0.00</td>\n",
              "      <td>0.18</td>\n",
              "      <td>0.00</td>\n",
              "      <td>0.00</td>\n",
              "      <td>0.00</td>\n",
              "      <td>0.00</td>\n",
              "      <td>1.33</td>\n",
              "      <td>0.00</td>\n",
              "      <td>0.00</td>\n",
              "      <td>0.00</td>\n",
              "      <td>...</td>\n",
              "      <td>0.00</td>\n",
              "      <td>0.00</td>\n",
              "      <td>0.20</td>\n",
              "      <td>0.00</td>\n",
              "      <td>0.00</td>\n",
              "      <td>0.00</td>\n",
              "      <td>0.00</td>\n",
              "      <td>0.61</td>\n",
              "      <td>0.0</td>\n",
              "      <td>0.30</td>\n",
              "    </tr>\n",
              "  </tbody>\n",
              "</table>\n",
              "<p>5 rows × 334 columns</p>\n",
              "</div>"
            ],
            "text/plain": [
              "return_name   A.I. Virtasen aukio  Aalto-yliopisto (M), Korkeakouluaukio  \\\n",
              "distance (m)                                                               \n",
              "0.0                         11.76                                   6.70   \n",
              "1.0                          0.00                                   0.53   \n",
              "2.0                          1.18                                   0.35   \n",
              "3.0                          0.00                                   0.00   \n",
              "4.0                          0.00                                   0.18   \n",
              "\n",
              "return_name   Aalto-yliopisto (M), Tietotie  Abraham Wetterin tie  \\\n",
              "distance (m)                                                        \n",
              "0.0                                    5.26                  6.18   \n",
              "1.0                                    0.00                  0.39   \n",
              "2.0                                    1.05                  0.00   \n",
              "3.0                                    0.00                  0.00   \n",
              "4.0                                    0.00                  0.00   \n",
              "\n",
              "return_name   Agnetankuja  Agronominkatu  Ahertajantie  Alakiventie  \\\n",
              "distance (m)                                                          \n",
              "0.0                  7.05           8.38         10.67         2.86   \n",
              "1.0                  0.44           0.00          1.33         0.00   \n",
              "2.0                  0.44           1.12          2.67         5.71   \n",
              "3.0                  0.00           0.00          0.00         0.00   \n",
              "4.0                  0.00           0.00          1.33         0.00   \n",
              "\n",
              "return_name   Albertinkatu  Annankatu  ...  Viikin normaalikoulu  \\\n",
              "distance (m)                           ...                         \n",
              "0.0                   9.35       6.32  ...                  9.77   \n",
              "1.0                   0.00       0.26  ...                  0.00   \n",
              "2.0                   0.00       0.26  ...                  0.47   \n",
              "3.0                   0.00       0.00  ...                  0.00   \n",
              "4.0                   0.00       0.00  ...                  0.00   \n",
              "\n",
              "return_name   Viikin tiedepuisto  Viiskulma  Vilhonvuorenkatu  Voikukantie  \\\n",
              "distance (m)                                                                 \n",
              "0.0                         9.60       6.92              7.86         6.12   \n",
              "1.0                         0.00       0.20              0.11         0.00   \n",
              "2.0                         0.35       0.59              0.21         0.36   \n",
              "3.0                         0.00       0.00              0.00         0.00   \n",
              "4.0                         0.00       0.20              0.00         0.00   \n",
              "\n",
              "return_name   Von Daehnin katu  Westendinasema  Westendintie  Yhdyskunnankuja  \\\n",
              "distance (m)                                                                    \n",
              "0.0                       8.82            8.68          7.88              7.0   \n",
              "1.0                       0.00            0.38          0.00              0.0   \n",
              "2.0                       0.00            0.38          0.61              0.0   \n",
              "3.0                       0.00            0.00          0.00              0.0   \n",
              "4.0                       0.00            0.00          0.61              0.0   \n",
              "\n",
              "return_name   Ympyrätalo  \n",
              "distance (m)              \n",
              "0.0                 6.59  \n",
              "1.0                 0.00  \n",
              "2.0                 0.07  \n",
              "3.0                 0.15  \n",
              "4.0                 0.30  \n",
              "\n",
              "[5 rows x 334 columns]"
            ]
          },
          "execution_count": 16,
          "metadata": {},
          "output_type": "execute_result"
        }
      ],
      "source": [
        "crosstab = pd.crosstab(index=data['distance (m)'], columns=data['return_name'], normalize='columns')*100\n",
        "crosstab.round(2).head()"
      ]
    },
    {
      "cell_type": "markdown",
      "metadata": {
        "id": "9R8cmmN9SXEv"
      },
      "source": [
        "## ETAPA 3.2: Análise exploratória das Variáveis Quantitativas"
      ]
    },
    {
      "cell_type": "markdown",
      "metadata": {
        "id": "sCku4aDRSauF"
      },
      "source": [
        "### Atividade (A1): Relatório com os parâmetros de localização / posição:\n",
        "\n",
        "*   **Tendência central**: Média / $Moda^*$ / Mediana\n",
        "*   **Separatriz:** Quartis (Q1 - Q2 - Q3)\n",
        "*  Análise dos Outliers: Limite inferior e superior"
      ]
    },
    {
      "cell_type": "code",
      "execution_count": 17,
      "metadata": {},
      "outputs": [],
      "source": [
        "from scipy import stats"
      ]
    },
    {
      "cell_type": "code",
      "execution_count": 18,
      "metadata": {
        "id": "yrhacy5T8PPL"
      },
      "outputs": [
        {
          "name": "stderr",
          "output_type": "stream",
          "text": [
            "C:\\Users\\ESTÊVÃOGUERRACOUTINH\\AppData\\Local\\Temp\\ipykernel_15064\\1049208734.py:3: FutureWarning: Unlike other reduction functions (e.g. `skew`, `kurtosis`), the default behavior of `mode` typically preserves the axis it acts along. In SciPy 1.11.0, this behavior will change: the default value of `keepdims` will become False, the `axis` over which the statistic is taken will be eliminated, and the value None will no longer be accepted. Set `keepdims` to True or False to avoid this warning.\n",
            "  moda = stats.mode(data['distance (m)'])\n"
          ]
        }
      ],
      "source": [
        "media = np.mean(data['distance (m)'])\n",
        "vals, counts = np.unique(data['distance (m)'], return_counts=True)\n",
        "moda = stats.mode(data['distance (m)'])\n",
        "mediana = np.median(data['distance (m)'])\n",
        "Q1 = np.quantile(data['distance (m)'], 0)\n",
        "Q2 = np.quantile(data['distance (m)'], 0.5)\n",
        "Q3 = np.quantile(data['distance (m)'], 1)\n",
        "IIQ = Q3 - Q1\n",
        "limite_inferior = Q1 - 1.5 * IIQ\n",
        "limite_superior = Q3 + 1.5 * IIQ"
      ]
    },
    {
      "cell_type": "code",
      "execution_count": 19,
      "metadata": {},
      "outputs": [
        {
          "name": "stdout",
          "output_type": "stream",
          "text": [
            "ANÁLISE DA DISTÂNCIA\n",
            "Média: 2548.443795259052\n",
            "Moda: ModeResult(mode=array([0.]), count=array([7608]))\n",
            "Mediana: 2180.0\n",
            "1º Quartil: 0.0\n",
            "2º Quartil: 2180.0\n",
            "3º Quartil: 43217.0\n",
            "Limite Inferior: -64825.5\n",
            "Limite Superior: 108042.5\n"
          ]
        }
      ],
      "source": [
        "print('ANÁLISE DA DISTÂNCIA')\n",
        "print(f'Média: {media}')\n",
        "print(f'Moda: {moda}')\n",
        "print(f'Mediana: {mediana}')\n",
        "print(f'1º Quartil: {Q1}')\n",
        "print(f'2º Quartil: {Q2}')\n",
        "print(f'3º Quartil: {Q3}')\n",
        "print(f'Limite Inferior: {limite_inferior}')\n",
        "print(f'Limite Superior: {limite_superior}')"
      ]
    },
    {
      "cell_type": "markdown",
      "metadata": {
        "id": "pXsf9s9F8SHA"
      },
      "source": [
        "### Atividade (A2): Relatório com os parâmetros de Variabilidade / Disperção:\n",
        "\n",
        "*   **Variabilidade**: Amplitude / Desvio-padrão / Coeficiente de variação / Erro Padrão (Pesquisar)"
      ]
    },
    {
      "cell_type": "code",
      "execution_count": 32,
      "metadata": {
        "id": "6KBI-KpY9qkq"
      },
      "outputs": [],
      "source": [
        "amplitude = min(data['distance (m)']) - max(data['distance (m)'])\n",
        "desvio_padrao = np.std(data['distance (m)'])\n",
        "coeficiente_variacao = np.std(data['distance (m)'], ddof=1) / np.mean(data['distance (m)']) * 100\n",
        "erro_padrao = desvio_padrao / data['distance (m)'].count()"
      ]
    },
    {
      "cell_type": "code",
      "execution_count": 33,
      "metadata": {},
      "outputs": [
        {
          "name": "stdout",
          "output_type": "stream",
          "text": [
            "Amplitude: -43217.0\n",
            "Desvio Padrão: 1998.8384557342952\n",
            "Coeficiente de Variação: 78.43408026966567\n",
            "Coeficiente de Variação: 0.01999238303394974\n"
          ]
        }
      ],
      "source": [
        "print(f'Amplitude: {amplitude}')\n",
        "print(f'Desvio Padrão: {desvio_padrao}')\n",
        "print(f'Coeficiente de Variação: {coeficiente_variacao}')\n",
        "print(f'Coeficiente de Variação: {erro_padrao}')"
      ]
    },
    {
      "cell_type": "markdown",
      "metadata": {
        "id": "F9MWpWmd9vCV"
      },
      "source": [
        "### Atividade (A3): Relatório com os parâmetros de Forma:\n",
        "\n",
        "*   **Distribuição**: Assimetria / Curtuse"
      ]
    },
    {
      "cell_type": "code",
      "execution_count": 34,
      "metadata": {
        "id": "oy6mdSpO9vrP"
      },
      "outputs": [],
      "source": [
        "assimetria = data['distance (m)'].skew()\n",
        "curtose = data['distance (m)'].kurtosis()"
      ]
    },
    {
      "cell_type": "code",
      "execution_count": 35,
      "metadata": {},
      "outputs": [
        {
          "name": "stdout",
          "output_type": "stream",
          "text": [
            "Assimetria: 1.90031512941491\n",
            "Curtose: 11.310729624623372\n"
          ]
        }
      ],
      "source": [
        "print(f'Assimetria: {assimetria}')\n",
        "print(f'Curtose: {curtose}')"
      ]
    },
    {
      "cell_type": "markdown",
      "metadata": {
        "id": "Y26c98nbCiWA"
      },
      "source": [
        "## ETAPA 3.3: Aplicação e Análise por Métodos Quantitativos"
      ]
    },
    {
      "cell_type": "markdown",
      "metadata": {
        "id": "wzMq3GvwsL-o"
      },
      "source": [
        "### Atividade (A1): Testes de Hipótese - Normalidade sobre a TARGET ($y$) (Total gasto pelo Cliente):\n",
        "\n",
        "*   **Normality_Test**: Anderson-Darling Normality Test (com intervalo de confiança)\n",
        "*   **normaltest**: D'Agostino's $K^2$ Normality Test\n",
        "*   **shapiro**: Shapiro Normality Test"
      ]
    },
    {
      "cell_type": "markdown",
      "metadata": {},
      "source": [
        "#### Anderson-Darling Normality Test"
      ]
    },
    {
      "cell_type": "code",
      "execution_count": 62,
      "metadata": {},
      "outputs": [],
      "source": [
        "from scipy.stats import anderson"
      ]
    },
    {
      "cell_type": "markdown",
      "metadata": {},
      "source": [
        "##### Usando a coluna **Distância**"
      ]
    },
    {
      "cell_type": "code",
      "execution_count": 63,
      "metadata": {},
      "outputs": [
        {
          "data": {
            "text/plain": [
              "AndersonResult(statistic=1503.8595078008948, critical_values=array([0.576, 0.656, 0.787, 0.918, 1.092]), significance_level=array([15. , 10. ,  5. ,  2.5,  1. ]))"
            ]
          },
          "execution_count": 63,
          "metadata": {},
          "output_type": "execute_result"
        }
      ],
      "source": [
        "result = anderson(data['distance (m)'])\n",
        "result"
      ]
    },
    {
      "cell_type": "code",
      "execution_count": 67,
      "metadata": {},
      "outputs": [
        {
          "name": "stdout",
          "output_type": "stream",
          "text": [
            "Dados não parecem normais no nível 15.0% \n",
            "Dados não parecem normais no nível 10.0% \n",
            "Dados não parecem normais no nível 5.0% \n",
            "Dados não parecem normais no nível 2.5% \n",
            "Dados não parecem normais no nível 1.0% \n"
          ]
        }
      ],
      "source": [
        "for i in range(len(result.critical_values)):\n",
        " sl, cv = result.significance_level[i], result.critical_values[i]\n",
        " if result.statistic < cv:\n",
        "  print('Dados parecem normais no nível %.1f%%' % (sl))\n",
        " else:\n",
        "  print('Dados não parecem normais no nível %.1f%% ' % (sl))"
      ]
    },
    {
      "cell_type": "markdown",
      "metadata": {},
      "source": [
        "##### Usando a coluna **Duração**"
      ]
    },
    {
      "cell_type": "code",
      "execution_count": 64,
      "metadata": {},
      "outputs": [
        {
          "data": {
            "text/plain": [
              "AndersonResult(statistic=35558.30642682777, critical_values=array([0.576, 0.656, 0.787, 0.918, 1.092]), significance_level=array([15. , 10. ,  5. ,  2.5,  1. ]))"
            ]
          },
          "execution_count": 64,
          "metadata": {},
          "output_type": "execute_result"
        }
      ],
      "source": [
        "result = anderson(data['duration (sec.)'])\n",
        "result"
      ]
    },
    {
      "cell_type": "code",
      "execution_count": 66,
      "metadata": {},
      "outputs": [
        {
          "name": "stdout",
          "output_type": "stream",
          "text": [
            "Dados não parecem normais no nível 15.0% \n",
            "Dados não parecem normais no nível 10.0% \n",
            "Dados não parecem normais no nível 5.0% \n",
            "Dados não parecem normais no nível 2.5% \n",
            "Dados não parecem normais no nível 1.0% \n"
          ]
        }
      ],
      "source": [
        "for i in range(len(result.critical_values)):\n",
        " sl, cv = result.significance_level[i], result.critical_values[i]\n",
        " if result.statistic < cv:\n",
        "  print('Dados parecem normais no nível %.1f%%' % (sl))\n",
        " else:\n",
        "  print('Dados não parecem normais no nível %.1f%% ' % (sl))"
      ]
    },
    {
      "cell_type": "markdown",
      "metadata": {},
      "source": [
        "#### D'Agostino's $K^2$ Normality Test"
      ]
    },
    {
      "cell_type": "code",
      "execution_count": 36,
      "metadata": {
        "id": "3zOGPk5Heb_n"
      },
      "outputs": [],
      "source": [
        "from scipy.stats import normaltest"
      ]
    },
    {
      "cell_type": "code",
      "execution_count": 37,
      "metadata": {
        "id": "aKJU4riew-VA"
      },
      "outputs": [],
      "source": [
        "significancia = 0.05"
      ]
    },
    {
      "cell_type": "markdown",
      "metadata": {},
      "source": [
        "##### Usando a coluna **Distância**"
      ]
    },
    {
      "cell_type": "code",
      "execution_count": 39,
      "metadata": {
        "id": "4r4-Kc-Rw-eB"
      },
      "outputs": [
        {
          "data": {
            "text/plain": [
              "<AxesSubplot:>"
            ]
          },
          "execution_count": 39,
          "metadata": {},
          "output_type": "execute_result"
        },
        {
          "data": {
            "image/png": "[encoded data removed]",
            "text/plain": [
              "<Figure size 432x288 with 1 Axes>"
            ]
          },
          "metadata": {
            "needs_background": "light"
          },
          "output_type": "display_data"
        }
      ],
      "source": [
        "# Testando com a distância\n",
        "\n",
        "data['distance (m)'].hist(bins = 50)"
      ]
    },
    {
      "cell_type": "code",
      "execution_count": 41,
      "metadata": {},
      "outputs": [
        {
          "data": {
            "text/plain": [
              "NormaltestResult(statistic=46342.834739256614, pvalue=0.0)"
            ]
          },
          "execution_count": 41,
          "metadata": {},
          "output_type": "execute_result"
        }
      ],
      "source": [
        "normaltest(data['distance (m)'])"
      ]
    },
    {
      "cell_type": "code",
      "execution_count": 42,
      "metadata": {},
      "outputs": [
        {
          "name": "stdout",
          "output_type": "stream",
          "text": [
            "46342.834739256614\n",
            "0.0\n"
          ]
        }
      ],
      "source": [
        "stat_test, p_valor = normaltest(data['distance (m)'])\n",
        "print(stat_test)\n",
        "print(p_valor)"
      ]
    },
    {
      "cell_type": "code",
      "execution_count": 60,
      "metadata": {},
      "outputs": [
        {
          "name": "stdout",
          "output_type": "stream",
          "text": [
            "Dados não normais\n"
          ]
        }
      ],
      "source": [
        "if p_valor > 0.05:\n",
        " print('Dados normais')\n",
        "else:\n",
        " print('Dados não normais')"
      ]
    },
    {
      "cell_type": "markdown",
      "metadata": {},
      "source": [
        "##### Usando a coluna **Duração**"
      ]
    },
    {
      "cell_type": "code",
      "execution_count": 51,
      "metadata": {},
      "outputs": [
        {
          "data": {
            "text/plain": [
              "<AxesSubplot:>"
            ]
          },
          "execution_count": 51,
          "metadata": {},
          "output_type": "execute_result"
        },
        {
          "data": {
            "image/png": "[encoded data removed]",
            "text/plain": [
              "<Figure size 432x288 with 1 Axes>"
            ]
          },
          "metadata": {
            "needs_background": "light"
          },
          "output_type": "display_data"
        }
      ],
      "source": [
        "# Testando como tempo\n",
        "\n",
        "data['duration (sec.)'].hist(bins = 50)"
      ]
    },
    {
      "cell_type": "code",
      "execution_count": 53,
      "metadata": {},
      "outputs": [
        {
          "data": {
            "text/plain": [
              "NormaltestResult(statistic=468974.3210057123, pvalue=0.0)"
            ]
          },
          "execution_count": 53,
          "metadata": {},
          "output_type": "execute_result"
        }
      ],
      "source": [
        "normaltest(data['duration (sec.)'])"
      ]
    },
    {
      "cell_type": "code",
      "execution_count": 55,
      "metadata": {},
      "outputs": [
        {
          "name": "stdout",
          "output_type": "stream",
          "text": [
            "468974.3210057123\n",
            "0.0\n"
          ]
        }
      ],
      "source": [
        "stat_test, p_valor = normaltest(data['duration (sec.)'])\n",
        "print(stat_test)\n",
        "print(p_valor)"
      ]
    },
    {
      "cell_type": "code",
      "execution_count": 61,
      "metadata": {},
      "outputs": [
        {
          "name": "stdout",
          "output_type": "stream",
          "text": [
            "Dados não normais\n"
          ]
        }
      ],
      "source": [
        "if p_valor > 0.05:\n",
        " print('Dados normais')\n",
        "else:\n",
        " print('Dados não normais')"
      ]
    },
    {
      "cell_type": "markdown",
      "metadata": {},
      "source": [
        "#### Shapiro Normality Test"
      ]
    },
    {
      "cell_type": "code",
      "execution_count": 57,
      "metadata": {},
      "outputs": [],
      "source": [
        "from scipy.stats import shapiro"
      ]
    },
    {
      "cell_type": "markdown",
      "metadata": {},
      "source": [
        "##### Usando a coluna **Distância**"
      ]
    },
    {
      "cell_type": "code",
      "execution_count": 58,
      "metadata": {},
      "outputs": [
        {
          "name": "stderr",
          "output_type": "stream",
          "text": [
            "c:\\Users\\ESTÊVÃOGUERRACOUTINH\\AppData\\Local\\Programs\\Python\\Python310\\lib\\site-packages\\scipy\\stats\\_morestats.py:1800: UserWarning: p-value may not be accurate for N > 5000.\n",
            "  warnings.warn(\"p-value may not be accurate for N > 5000.\")\n"
          ]
        },
        {
          "data": {
            "text/plain": [
              "ShapiroResult(statistic=0.8868159651756287, pvalue=0.0)"
            ]
          },
          "execution_count": 58,
          "metadata": {},
          "output_type": "execute_result"
        }
      ],
      "source": [
        "shapiro(data['distance (m)'])"
      ]
    },
    {
      "cell_type": "markdown",
      "metadata": {},
      "source": [
        "##### Usando a coluna **Duração**"
      ]
    },
    {
      "cell_type": "code",
      "execution_count": 59,
      "metadata": {},
      "outputs": [
        {
          "name": "stderr",
          "output_type": "stream",
          "text": [
            "c:\\Users\\ESTÊVÃOGUERRACOUTINH\\AppData\\Local\\Programs\\Python\\Python310\\lib\\site-packages\\scipy\\stats\\_morestats.py:1800: UserWarning: p-value may not be accurate for N > 5000.\n",
            "  warnings.warn(\"p-value may not be accurate for N > 5000.\")\n"
          ]
        },
        {
          "data": {
            "text/plain": [
              "ShapiroResult(statistic=0.012315690517425537, pvalue=0.0)"
            ]
          },
          "execution_count": 59,
          "metadata": {},
          "output_type": "execute_result"
        }
      ],
      "source": [
        "shapiro(data['duration (sec.)'])"
      ]
    },
    {
      "cell_type": "code",
      "execution_count": null,
      "metadata": {},
      "outputs": [],
      "source": [
        "if p_valor > 0.05:\n",
        "    print(\"Dados seguem a distribuição normalizada\")\n",
        "else:\n",
        "    print(\"Dados não seguem a distribuição normalizada\")"
      ]
    },
    {
      "cell_type": "code",
      "execution_count": 68,
      "metadata": {},
      "outputs": [
        {
          "ename": "NameError",
          "evalue": "name 'p' is not defined",
          "output_type": "error",
          "traceback": [
            "\u001b[1;31m---------------------------------------------------------------------------\u001b[0m",
            "\u001b[1;31mNameError\u001b[0m                                 Traceback (most recent call last)",
            "\u001b[1;32mc:\\Estudos\\datascience\\Projeto_DataScience_UVV\\Atividade_Estevao.ipynb Cell 74\u001b[0m in \u001b[0;36m<module>\u001b[1;34m\u001b[0m\n\u001b[1;32m----> <a href='vscode-notebook-cell:/c%3A/Estudos/datascience/Projeto_DataScience_UVV/Atividade_Estevao.ipynb#Y160sZmlsZQ%3D%3D?line=0'>1</a>\u001b[0m \u001b[39mif\u001b[39;00m p \u001b[39m>\u001b[39m \u001b[39m0.05\u001b[39m:\n\u001b[0;32m      <a href='vscode-notebook-cell:/c%3A/Estudos/datascience/Projeto_DataScience_UVV/Atividade_Estevao.ipynb#Y160sZmlsZQ%3D%3D?line=1'>2</a>\u001b[0m     \u001b[39mprint\u001b[39m(\u001b[39m\"\u001b[39m\u001b[39mDados seguem a distribuição normalizada\u001b[39m\u001b[39m\"\u001b[39m)\n\u001b[0;32m      <a href='vscode-notebook-cell:/c%3A/Estudos/datascience/Projeto_DataScience_UVV/Atividade_Estevao.ipynb#Y160sZmlsZQ%3D%3D?line=2'>3</a>\u001b[0m \u001b[39melse\u001b[39;00m:\n",
            "\u001b[1;31mNameError\u001b[0m: name 'p' is not defined"
          ]
        }
      ],
      "source": [
        "if p_valor > 0.05:\n",
        "    print(\"Dados seguem a distribuição normalizada\")\n",
        "else:\n",
        "    print(\"Dados não seguem a distribuição normalizada\")"
      ]
    },
    {
      "cell_type": "markdown",
      "metadata": {
        "id": "sB375egrur9C"
      },
      "source": [
        "### AMOSTRAGEM ALEATÓRIA: Método sample"
      ]
    },
    {
      "cell_type": "markdown",
      "metadata": {
        "id": "al_km1XGuxXt"
      },
      "source": [
        "Criar a Amostragem Aleatória (sem reposição: replace=False) de 3 conjuntos:\n",
        "\n",
        "*   **Treinamento** (train): 40% do dataset.\n",
        "*   **Teste** (test): 40% do dataset.\n",
        "*   **Validação** (validation): 20% do dataset.\n",
        "\n",
        "A partir destas amostras, faça:"
      ]
    },
    {
      "cell_type": "markdown",
      "metadata": {
        "id": "e2hfLM79wXpM"
      },
      "source": [
        "### Atividade (A2): Testes de Correlação:\n",
        "\n",
        "*   **Pearson’s Correlation Coefficient**\n",
        "*   **Spearman’s Rank Correlation**\n",
        "*   **Kendall’s Rank Correlation**\n",
        "*   **Chi-Squared Test**"
      ]
    },
    {
      "cell_type": "markdown",
      "metadata": {
        "id": "JnRxv4wGyLKd"
      },
      "source": [
        "**Dataset: TREINAMENTO x TESTE**"
      ]
    },
    {
      "cell_type": "code",
      "execution_count": null,
      "metadata": {
        "id": "kJkKQmOwyJFb"
      },
      "outputs": [],
      "source": []
    },
    {
      "cell_type": "markdown",
      "metadata": {
        "id": "ktrwqkESyRpN"
      },
      "source": [
        "**Dataset: TREINAMENTO x VALIDAÇÃO**"
      ]
    },
    {
      "cell_type": "code",
      "execution_count": null,
      "metadata": {
        "id": "x6cOKDhGyR0M"
      },
      "outputs": [],
      "source": []
    },
    {
      "cell_type": "markdown",
      "metadata": {
        "id": "i25mK54s0Oda"
      },
      "source": [
        "Plotar os gráficos (Método: statistic) dos parâmetros:\n",
        "\n",
        "*   **Z-SCORE**: stat\n",
        "*   **p-value**: p"
      ]
    },
    {
      "cell_type": "code",
      "execution_count": null,
      "metadata": {
        "id": "LetJPLw45MDB"
      },
      "outputs": [],
      "source": []
    },
    {
      "cell_type": "markdown",
      "metadata": {
        "id": "R4Cvfkuq5uZF"
      },
      "source": [
        "### Atividade (A3): Nonparametric Statistical Hypothesis Tests:\n",
        "\n",
        "*   **Mann-Whitney U Test**\n",
        "*   **Wilcoxon Signed-Rank Test**\n",
        "*   **Kruskal-Wallis H Test**"
      ]
    },
    {
      "cell_type": "code",
      "execution_count": null,
      "metadata": {
        "id": "hKFvlMXD6tjm"
      },
      "outputs": [],
      "source": []
    },
    {
      "cell_type": "code",
      "execution_count": null,
      "metadata": {
        "id": "lRyf4srL6t1g"
      },
      "outputs": [],
      "source": []
    },
    {
      "cell_type": "markdown",
      "metadata": {
        "id": "3GguDlVACEnK"
      },
      "source": [
        "# **ETAPA 4: Data Modeling**"
      ]
    },
    {
      "cell_type": "markdown",
      "metadata": {
        "id": "lDHTdpEjCFHA"
      },
      "source": []
    },
    {
      "cell_type": "markdown",
      "metadata": {
        "id": "iv1XphQxCFON"
      },
      "source": [
        "# **ETAPA 5: Data Presentation**"
      ]
    },
    {
      "cell_type": "markdown",
      "metadata": {
        "id": "2Laj2gfUCF6f"
      },
      "source": []
    }
  ],
  "metadata": {
    "colab": {
      "collapsed_sections": [
        "asEsONXExzoJ",
        "3GguDlVACEnK",
        "iv1XphQxCFON"
      ],
      "provenance": []
    },
    "kernelspec": {
      "display_name": "Python 3",
      "language": "python",
      "name": "python3"
    },
    "language_info": {
      "codemirror_mode": {
        "name": "ipython",
        "version": 3
      },
      "file_extension": ".py",
      "mimetype": "text/x-python",
      "name": "python",
      "nbconvert_exporter": "python",
      "pygments_lexer": "ipython3",
      "version": "3.10.2"
    },
    "vscode": {
      "interpreter": {
        "hash": "08847cd809ea1806519b0726bda3073ae74c9e65db43ef17041799c477563d0a"
      }
    }
  },
  "nbformat": 4,
  "nbformat_minor": 0
}
