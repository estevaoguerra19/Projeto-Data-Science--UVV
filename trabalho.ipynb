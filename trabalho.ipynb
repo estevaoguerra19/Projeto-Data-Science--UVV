{
 "cells": [
  {
   "cell_type": "markdown",
   "metadata": {},
   "source": [
    "# Trabalho de Data Science - Aluno: Estêvão Guerra"
   ]
  },
  {
   "cell_type": "markdown",
   "metadata": {},
   "source": [
    "## Etapa 1: ETL - Extract, Transform and Load"
   ]
  },
  {
   "cell_type": "markdown",
   "metadata": {},
   "source": [
    "**DATASET** - [Link](data/database.csv)"
   ]
  },
  {
   "cell_type": "markdown",
   "metadata": {},
   "source": [
    "**DATASOURCE** - [Link](https://www.kaggle.com/datasets/geometrein/helsinki-city-bikes/metadata)"
   ]
  },
  {
   "cell_type": "markdown",
   "metadata": {},
   "source": [
    "## Etapa 2: Data Exploration"
   ]
  },
  {
   "cell_type": "code",
   "execution_count": 6,
   "metadata": {},
   "outputs": [],
   "source": [
    "import pandas as pd"
   ]
  },
  {
   "cell_type": "code",
   "execution_count": 7,
   "metadata": {},
   "outputs": [],
   "source": [
    "df = pd.read_csv('data/database.csv',nrows=100000)"
   ]
  },
  {
   "cell_type": "code",
   "execution_count": 8,
   "metadata": {},
   "outputs": [
    {
     "data": {
      "text/html": [
       "<div>\n",
       "<style scoped>\n",
       "    .dataframe tbody tr th:only-of-type {\n",
       "        vertical-align: middle;\n",
       "    }\n",
       "\n",
       "    .dataframe tbody tr th {\n",
       "        vertical-align: top;\n",
       "    }\n",
       "\n",
       "    .dataframe thead th {\n",
       "        text-align: right;\n",
       "    }\n",
       "</style>\n",
       "<table border=\"1\" class=\"dataframe\">\n",
       "  <thead>\n",
       "    <tr style=\"text-align: right;\">\n",
       "      <th></th>\n",
       "      <th>Unnamed: 0</th>\n",
       "      <th>departure</th>\n",
       "      <th>return</th>\n",
       "      <th>departure_id</th>\n",
       "      <th>departure_name</th>\n",
       "      <th>return_id</th>\n",
       "      <th>return_name</th>\n",
       "      <th>distance (m)</th>\n",
       "      <th>duration (sec.)</th>\n",
       "      <th>avg_speed (km/h)</th>\n",
       "      <th>departure_latitude</th>\n",
       "      <th>departure_longitude</th>\n",
       "      <th>return_latitude</th>\n",
       "      <th>return_longitude</th>\n",
       "      <th>Air temperature (degC)</th>\n",
       "    </tr>\n",
       "  </thead>\n",
       "  <tbody>\n",
       "    <tr>\n",
       "      <th>0</th>\n",
       "      <td>0</td>\n",
       "      <td>2020-03-23 06:09:44</td>\n",
       "      <td>2020-03-23 06:16:26</td>\n",
       "      <td>86</td>\n",
       "      <td>Kuusitie</td>\n",
       "      <td>111.0</td>\n",
       "      <td>Esterinportti</td>\n",
       "      <td>1747.0</td>\n",
       "      <td>401.0</td>\n",
       "      <td>0.261397</td>\n",
       "      <td>60.195245</td>\n",
       "      <td>24.901900</td>\n",
       "      <td>60.197572</td>\n",
       "      <td>24.926781</td>\n",
       "      <td>0.9</td>\n",
       "    </tr>\n",
       "    <tr>\n",
       "      <th>1</th>\n",
       "      <td>1</td>\n",
       "      <td>2020-03-23 06:11:58</td>\n",
       "      <td>2020-03-23 06:26:31</td>\n",
       "      <td>26</td>\n",
       "      <td>Kamppi (M)</td>\n",
       "      <td>10.0</td>\n",
       "      <td>Kasarmitori</td>\n",
       "      <td>1447.0</td>\n",
       "      <td>869.0</td>\n",
       "      <td>0.099908</td>\n",
       "      <td>60.168610</td>\n",
       "      <td>24.930537</td>\n",
       "      <td>60.165017</td>\n",
       "      <td>24.949473</td>\n",
       "      <td>0.9</td>\n",
       "    </tr>\n",
       "    <tr>\n",
       "      <th>2</th>\n",
       "      <td>2</td>\n",
       "      <td>2020-03-23 06:16:29</td>\n",
       "      <td>2020-03-23 06:24:23</td>\n",
       "      <td>268</td>\n",
       "      <td>Porolahden koulu</td>\n",
       "      <td>254.0</td>\n",
       "      <td>Agnetankuja</td>\n",
       "      <td>1772.0</td>\n",
       "      <td>469.0</td>\n",
       "      <td>0.226695</td>\n",
       "      <td>60.195540</td>\n",
       "      <td>25.053581</td>\n",
       "      <td>60.187234</td>\n",
       "      <td>25.036412</td>\n",
       "      <td>0.9</td>\n",
       "    </tr>\n",
       "    <tr>\n",
       "      <th>3</th>\n",
       "      <td>3</td>\n",
       "      <td>2020-03-23 06:33:53</td>\n",
       "      <td>2020-03-23 07:14:03</td>\n",
       "      <td>751</td>\n",
       "      <td>Vallipolku</td>\n",
       "      <td>106.0</td>\n",
       "      <td>Korppaanmäentie</td>\n",
       "      <td>7456.0</td>\n",
       "      <td>2406.0</td>\n",
       "      <td>0.185935</td>\n",
       "      <td>60.227827</td>\n",
       "      <td>24.819614</td>\n",
       "      <td>60.203474</td>\n",
       "      <td>24.898930</td>\n",
       "      <td>0.9</td>\n",
       "    </tr>\n",
       "    <tr>\n",
       "      <th>4</th>\n",
       "      <td>4</td>\n",
       "      <td>2020-03-23 06:36:09</td>\n",
       "      <td>2020-03-23 07:04:10</td>\n",
       "      <td>62</td>\n",
       "      <td>Länsisatamankatu</td>\n",
       "      <td>121.0</td>\n",
       "      <td>Vilhonvuorenkatu</td>\n",
       "      <td>7120.0</td>\n",
       "      <td>1679.0</td>\n",
       "      <td>0.254437</td>\n",
       "      <td>60.158928</td>\n",
       "      <td>24.909692</td>\n",
       "      <td>60.186463</td>\n",
       "      <td>24.967872</td>\n",
       "      <td>0.9</td>\n",
       "    </tr>\n",
       "  </tbody>\n",
       "</table>\n",
       "</div>"
      ],
      "text/plain": [
       "   Unnamed: 0            departure               return  departure_id  \\\n",
       "0           0  2020-03-23 06:09:44  2020-03-23 06:16:26            86   \n",
       "1           1  2020-03-23 06:11:58  2020-03-23 06:26:31            26   \n",
       "2           2  2020-03-23 06:16:29  2020-03-23 06:24:23           268   \n",
       "3           3  2020-03-23 06:33:53  2020-03-23 07:14:03           751   \n",
       "4           4  2020-03-23 06:36:09  2020-03-23 07:04:10            62   \n",
       "\n",
       "     departure_name  return_id       return_name  distance (m)  \\\n",
       "0          Kuusitie      111.0     Esterinportti        1747.0   \n",
       "1        Kamppi (M)       10.0       Kasarmitori        1447.0   \n",
       "2  Porolahden koulu      254.0       Agnetankuja        1772.0   \n",
       "3        Vallipolku      106.0   Korppaanmäentie        7456.0   \n",
       "4  Länsisatamankatu      121.0  Vilhonvuorenkatu        7120.0   \n",
       "\n",
       "   duration (sec.)  avg_speed (km/h)  departure_latitude  departure_longitude  \\\n",
       "0            401.0          0.261397           60.195245            24.901900   \n",
       "1            869.0          0.099908           60.168610            24.930537   \n",
       "2            469.0          0.226695           60.195540            25.053581   \n",
       "3           2406.0          0.185935           60.227827            24.819614   \n",
       "4           1679.0          0.254437           60.158928            24.909692   \n",
       "\n",
       "   return_latitude  return_longitude  Air temperature (degC)  \n",
       "0        60.197572         24.926781                     0.9  \n",
       "1        60.165017         24.949473                     0.9  \n",
       "2        60.187234         25.036412                     0.9  \n",
       "3        60.203474         24.898930                     0.9  \n",
       "4        60.186463         24.967872                     0.9  "
      ]
     },
     "execution_count": 8,
     "metadata": {},
     "output_type": "execute_result"
    }
   ],
   "source": [
    "df.head()"
   ]
  },
  {
   "cell_type": "code",
   "execution_count": 9,
   "metadata": {},
   "outputs": [
    {
     "name": "stdout",
     "output_type": "stream",
     "text": [
      "<class 'pandas.core.frame.DataFrame'>\n",
      "RangeIndex: 100000 entries, 0 to 99999\n",
      "Data columns (total 15 columns):\n",
      " #   Column                  Non-Null Count   Dtype  \n",
      "---  ------                  --------------   -----  \n",
      " 0   Unnamed: 0              100000 non-null  int64  \n",
      " 1   departure               100000 non-null  object \n",
      " 2   return                  100000 non-null  object \n",
      " 3   departure_id            100000 non-null  int64  \n",
      " 4   departure_name          100000 non-null  object \n",
      " 5   return_id               100000 non-null  float64\n",
      " 6   return_name             100000 non-null  object \n",
      " 7   distance (m)            100000 non-null  float64\n",
      " 8   duration (sec.)         100000 non-null  float64\n",
      " 9   avg_speed (km/h)        99981 non-null   float64\n",
      " 10  departure_latitude      100000 non-null  float64\n",
      " 11  departure_longitude     100000 non-null  float64\n",
      " 12  return_latitude         100000 non-null  float64\n",
      " 13  return_longitude        100000 non-null  float64\n",
      " 14  Air temperature (degC)  100000 non-null  float64\n",
      "dtypes: float64(9), int64(2), object(4)\n",
      "memory usage: 11.4+ MB\n"
     ]
    }
   ],
   "source": [
    "df.info()"
   ]
  },
  {
   "cell_type": "code",
   "execution_count": 10,
   "metadata": {},
   "outputs": [
    {
     "name": "stdout",
     "output_type": "stream",
     "text": [
      "<class 'pandas.core.frame.DataFrame'>\n",
      "Int64Index: 99981 entries, 0 to 99999\n",
      "Data columns (total 15 columns):\n",
      " #   Column                  Non-Null Count  Dtype  \n",
      "---  ------                  --------------  -----  \n",
      " 0   Unnamed: 0              99981 non-null  int64  \n",
      " 1   departure               99981 non-null  object \n",
      " 2   return                  99981 non-null  object \n",
      " 3   departure_id            99981 non-null  int64  \n",
      " 4   departure_name          99981 non-null  object \n",
      " 5   return_id               99981 non-null  float64\n",
      " 6   return_name             99981 non-null  object \n",
      " 7   distance (m)            99981 non-null  float64\n",
      " 8   duration (sec.)         99981 non-null  float64\n",
      " 9   avg_speed (km/h)        99981 non-null  float64\n",
      " 10  departure_latitude      99981 non-null  float64\n",
      " 11  departure_longitude     99981 non-null  float64\n",
      " 12  return_latitude         99981 non-null  float64\n",
      " 13  return_longitude        99981 non-null  float64\n",
      " 14  Air temperature (degC)  99981 non-null  float64\n",
      "dtypes: float64(9), int64(2), object(4)\n",
      "memory usage: 12.2+ MB\n"
     ]
    }
   ],
   "source": [
    "df = df.dropna()\n",
    "df.info()"
   ]
  },
  {
   "cell_type": "code",
   "execution_count": 11,
   "metadata": {},
   "outputs": [],
   "source": [
    "df = df.drop(columns=['departure_latitude','departure_longitude','return_latitude','return_longitude'])"
   ]
  },
  {
   "cell_type": "code",
   "execution_count": 12,
   "metadata": {},
   "outputs": [
    {
     "data": {
      "text/html": [
       "<div>\n",
       "<style scoped>\n",
       "    .dataframe tbody tr th:only-of-type {\n",
       "        vertical-align: middle;\n",
       "    }\n",
       "\n",
       "    .dataframe tbody tr th {\n",
       "        vertical-align: top;\n",
       "    }\n",
       "\n",
       "    .dataframe thead th {\n",
       "        text-align: right;\n",
       "    }\n",
       "</style>\n",
       "<table border=\"1\" class=\"dataframe\">\n",
       "  <thead>\n",
       "    <tr style=\"text-align: right;\">\n",
       "      <th></th>\n",
       "      <th>Unnamed: 0</th>\n",
       "      <th>departure</th>\n",
       "      <th>return</th>\n",
       "      <th>departure_id</th>\n",
       "      <th>departure_name</th>\n",
       "      <th>return_id</th>\n",
       "      <th>return_name</th>\n",
       "      <th>distance (m)</th>\n",
       "      <th>duration (sec.)</th>\n",
       "      <th>avg_speed (km/h)</th>\n",
       "      <th>Air temperature (degC)</th>\n",
       "    </tr>\n",
       "  </thead>\n",
       "  <tbody>\n",
       "    <tr>\n",
       "      <th>0</th>\n",
       "      <td>0</td>\n",
       "      <td>2020-03-23 06:09:44</td>\n",
       "      <td>2020-03-23 06:16:26</td>\n",
       "      <td>86</td>\n",
       "      <td>Kuusitie</td>\n",
       "      <td>111.0</td>\n",
       "      <td>Esterinportti</td>\n",
       "      <td>1747.0</td>\n",
       "      <td>401.0</td>\n",
       "      <td>0.261397</td>\n",
       "      <td>0.9</td>\n",
       "    </tr>\n",
       "    <tr>\n",
       "      <th>1</th>\n",
       "      <td>1</td>\n",
       "      <td>2020-03-23 06:11:58</td>\n",
       "      <td>2020-03-23 06:26:31</td>\n",
       "      <td>26</td>\n",
       "      <td>Kamppi (M)</td>\n",
       "      <td>10.0</td>\n",
       "      <td>Kasarmitori</td>\n",
       "      <td>1447.0</td>\n",
       "      <td>869.0</td>\n",
       "      <td>0.099908</td>\n",
       "      <td>0.9</td>\n",
       "    </tr>\n",
       "    <tr>\n",
       "      <th>2</th>\n",
       "      <td>2</td>\n",
       "      <td>2020-03-23 06:16:29</td>\n",
       "      <td>2020-03-23 06:24:23</td>\n",
       "      <td>268</td>\n",
       "      <td>Porolahden koulu</td>\n",
       "      <td>254.0</td>\n",
       "      <td>Agnetankuja</td>\n",
       "      <td>1772.0</td>\n",
       "      <td>469.0</td>\n",
       "      <td>0.226695</td>\n",
       "      <td>0.9</td>\n",
       "    </tr>\n",
       "    <tr>\n",
       "      <th>3</th>\n",
       "      <td>3</td>\n",
       "      <td>2020-03-23 06:33:53</td>\n",
       "      <td>2020-03-23 07:14:03</td>\n",
       "      <td>751</td>\n",
       "      <td>Vallipolku</td>\n",
       "      <td>106.0</td>\n",
       "      <td>Korppaanmäentie</td>\n",
       "      <td>7456.0</td>\n",
       "      <td>2406.0</td>\n",
       "      <td>0.185935</td>\n",
       "      <td>0.9</td>\n",
       "    </tr>\n",
       "    <tr>\n",
       "      <th>4</th>\n",
       "      <td>4</td>\n",
       "      <td>2020-03-23 06:36:09</td>\n",
       "      <td>2020-03-23 07:04:10</td>\n",
       "      <td>62</td>\n",
       "      <td>Länsisatamankatu</td>\n",
       "      <td>121.0</td>\n",
       "      <td>Vilhonvuorenkatu</td>\n",
       "      <td>7120.0</td>\n",
       "      <td>1679.0</td>\n",
       "      <td>0.254437</td>\n",
       "      <td>0.9</td>\n",
       "    </tr>\n",
       "  </tbody>\n",
       "</table>\n",
       "</div>"
      ],
      "text/plain": [
       "   Unnamed: 0            departure               return  departure_id  \\\n",
       "0           0  2020-03-23 06:09:44  2020-03-23 06:16:26            86   \n",
       "1           1  2020-03-23 06:11:58  2020-03-23 06:26:31            26   \n",
       "2           2  2020-03-23 06:16:29  2020-03-23 06:24:23           268   \n",
       "3           3  2020-03-23 06:33:53  2020-03-23 07:14:03           751   \n",
       "4           4  2020-03-23 06:36:09  2020-03-23 07:04:10            62   \n",
       "\n",
       "     departure_name  return_id       return_name  distance (m)  \\\n",
       "0          Kuusitie      111.0     Esterinportti        1747.0   \n",
       "1        Kamppi (M)       10.0       Kasarmitori        1447.0   \n",
       "2  Porolahden koulu      254.0       Agnetankuja        1772.0   \n",
       "3        Vallipolku      106.0   Korppaanmäentie        7456.0   \n",
       "4  Länsisatamankatu      121.0  Vilhonvuorenkatu        7120.0   \n",
       "\n",
       "   duration (sec.)  avg_speed (km/h)  Air temperature (degC)  \n",
       "0            401.0          0.261397                     0.9  \n",
       "1            869.0          0.099908                     0.9  \n",
       "2            469.0          0.226695                     0.9  \n",
       "3           2406.0          0.185935                     0.9  \n",
       "4           1679.0          0.254437                     0.9  "
      ]
     },
     "execution_count": 12,
     "metadata": {},
     "output_type": "execute_result"
    }
   ],
   "source": [
    "df.head()"
   ]
  },
  {
   "cell_type": "code",
   "execution_count": 13,
   "metadata": {},
   "outputs": [],
   "source": [
    "df['duration (min)'] = (df['duration (sec.)'] / 60).round(2)\n",
    "df.drop(columns='duration (sec.)',inplace=True)"
   ]
  },
  {
   "cell_type": "code",
   "execution_count": 14,
   "metadata": {},
   "outputs": [
    {
     "data": {
      "text/html": [
       "<div>\n",
       "<style scoped>\n",
       "    .dataframe tbody tr th:only-of-type {\n",
       "        vertical-align: middle;\n",
       "    }\n",
       "\n",
       "    .dataframe tbody tr th {\n",
       "        vertical-align: top;\n",
       "    }\n",
       "\n",
       "    .dataframe thead th {\n",
       "        text-align: right;\n",
       "    }\n",
       "</style>\n",
       "<table border=\"1\" class=\"dataframe\">\n",
       "  <thead>\n",
       "    <tr style=\"text-align: right;\">\n",
       "      <th></th>\n",
       "      <th>departure_id</th>\n",
       "      <th>return_id</th>\n",
       "      <th>departure_name</th>\n",
       "      <th>return_name</th>\n",
       "      <th>departure</th>\n",
       "      <th>return</th>\n",
       "      <th>distance (m)</th>\n",
       "      <th>duration (min)</th>\n",
       "      <th>avg_speed (km/h)</th>\n",
       "      <th>Air temperature (degC)</th>\n",
       "    </tr>\n",
       "  </thead>\n",
       "  <tbody>\n",
       "    <tr>\n",
       "      <th>0</th>\n",
       "      <td>86</td>\n",
       "      <td>111.0</td>\n",
       "      <td>Kuusitie</td>\n",
       "      <td>Esterinportti</td>\n",
       "      <td>2020-03-23 06:09:44</td>\n",
       "      <td>2020-03-23 06:16:26</td>\n",
       "      <td>1747.0</td>\n",
       "      <td>6.68</td>\n",
       "      <td>0.261397</td>\n",
       "      <td>0.9</td>\n",
       "    </tr>\n",
       "    <tr>\n",
       "      <th>1</th>\n",
       "      <td>26</td>\n",
       "      <td>10.0</td>\n",
       "      <td>Kamppi (M)</td>\n",
       "      <td>Kasarmitori</td>\n",
       "      <td>2020-03-23 06:11:58</td>\n",
       "      <td>2020-03-23 06:26:31</td>\n",
       "      <td>1447.0</td>\n",
       "      <td>14.48</td>\n",
       "      <td>0.099908</td>\n",
       "      <td>0.9</td>\n",
       "    </tr>\n",
       "    <tr>\n",
       "      <th>2</th>\n",
       "      <td>268</td>\n",
       "      <td>254.0</td>\n",
       "      <td>Porolahden koulu</td>\n",
       "      <td>Agnetankuja</td>\n",
       "      <td>2020-03-23 06:16:29</td>\n",
       "      <td>2020-03-23 06:24:23</td>\n",
       "      <td>1772.0</td>\n",
       "      <td>7.82</td>\n",
       "      <td>0.226695</td>\n",
       "      <td>0.9</td>\n",
       "    </tr>\n",
       "    <tr>\n",
       "      <th>3</th>\n",
       "      <td>751</td>\n",
       "      <td>106.0</td>\n",
       "      <td>Vallipolku</td>\n",
       "      <td>Korppaanmäentie</td>\n",
       "      <td>2020-03-23 06:33:53</td>\n",
       "      <td>2020-03-23 07:14:03</td>\n",
       "      <td>7456.0</td>\n",
       "      <td>40.10</td>\n",
       "      <td>0.185935</td>\n",
       "      <td>0.9</td>\n",
       "    </tr>\n",
       "    <tr>\n",
       "      <th>4</th>\n",
       "      <td>62</td>\n",
       "      <td>121.0</td>\n",
       "      <td>Länsisatamankatu</td>\n",
       "      <td>Vilhonvuorenkatu</td>\n",
       "      <td>2020-03-23 06:36:09</td>\n",
       "      <td>2020-03-23 07:04:10</td>\n",
       "      <td>7120.0</td>\n",
       "      <td>27.98</td>\n",
       "      <td>0.254437</td>\n",
       "      <td>0.9</td>\n",
       "    </tr>\n",
       "  </tbody>\n",
       "</table>\n",
       "</div>"
      ],
      "text/plain": [
       "   departure_id  return_id    departure_name       return_name  \\\n",
       "0            86      111.0          Kuusitie     Esterinportti   \n",
       "1            26       10.0        Kamppi (M)       Kasarmitori   \n",
       "2           268      254.0  Porolahden koulu       Agnetankuja   \n",
       "3           751      106.0        Vallipolku   Korppaanmäentie   \n",
       "4            62      121.0  Länsisatamankatu  Vilhonvuorenkatu   \n",
       "\n",
       "             departure               return  distance (m)  duration (min)  \\\n",
       "0  2020-03-23 06:09:44  2020-03-23 06:16:26        1747.0            6.68   \n",
       "1  2020-03-23 06:11:58  2020-03-23 06:26:31        1447.0           14.48   \n",
       "2  2020-03-23 06:16:29  2020-03-23 06:24:23        1772.0            7.82   \n",
       "3  2020-03-23 06:33:53  2020-03-23 07:14:03        7456.0           40.10   \n",
       "4  2020-03-23 06:36:09  2020-03-23 07:04:10        7120.0           27.98   \n",
       "\n",
       "   avg_speed (km/h)  Air temperature (degC)  \n",
       "0          0.261397                     0.9  \n",
       "1          0.099908                     0.9  \n",
       "2          0.226695                     0.9  \n",
       "3          0.185935                     0.9  \n",
       "4          0.254437                     0.9  "
      ]
     },
     "execution_count": 14,
     "metadata": {},
     "output_type": "execute_result"
    }
   ],
   "source": [
    "df = df[['departure_id','return_id','departure_name','return_name','departure','return','distance (m)','duration (min)','avg_speed (km/h)','Air temperature (degC)']]\n",
    "df.head()"
   ]
  },
  {
   "cell_type": "code",
   "execution_count": 15,
   "metadata": {},
   "outputs": [
    {
     "name": "stdout",
     "output_type": "stream",
     "text": [
      "A temperatura mínima é: -5.2\n",
      "A temperatura máxima é: 11.6\n"
     ]
    }
   ],
   "source": [
    "maximo_temperatura = df['Air temperature (degC)'].max()\n",
    "minimo_temperatura = df['Air temperature (degC)'].min()\n",
    "print(f'A temperatura mínima é: {minimo_temperatura}')\n",
    "print(f'A temperatura máxima é: {maximo_temperatura}')"
   ]
  },
  {
   "cell_type": "markdown",
   "metadata": {},
   "source": [
    "## Etapa 3: Data Evoluation"
   ]
  },
  {
   "cell_type": "markdown",
   "metadata": {},
   "source": [
    "### Etapa 3.1: Análise exploratória das Variáveis Qualitativas"
   ]
  },
  {
   "cell_type": "code",
   "execution_count": 16,
   "metadata": {},
   "outputs": [],
   "source": [
    "import seaborn as sns\n",
    "import matplotlib as plt"
   ]
  },
  {
   "cell_type": "code",
   "execution_count": 17,
   "metadata": {},
   "outputs": [
    {
     "data": {
      "text/html": [
       "<div>\n",
       "<style scoped>\n",
       "    .dataframe tbody tr th:only-of-type {\n",
       "        vertical-align: middle;\n",
       "    }\n",
       "\n",
       "    .dataframe tbody tr th {\n",
       "        vertical-align: top;\n",
       "    }\n",
       "\n",
       "    .dataframe thead th {\n",
       "        text-align: right;\n",
       "    }\n",
       "</style>\n",
       "<table border=\"1\" class=\"dataframe\">\n",
       "  <thead>\n",
       "    <tr style=\"text-align: right;\">\n",
       "      <th></th>\n",
       "      <th>departure_id</th>\n",
       "      <th>return_id</th>\n",
       "      <th>departure_name</th>\n",
       "      <th>return_name</th>\n",
       "      <th>departure</th>\n",
       "      <th>return</th>\n",
       "      <th>distance (m)</th>\n",
       "      <th>duration (min)</th>\n",
       "      <th>avg_speed (km/h)</th>\n",
       "      <th>Air temperature (degC)</th>\n",
       "    </tr>\n",
       "  </thead>\n",
       "  <tbody>\n",
       "    <tr>\n",
       "      <th>0</th>\n",
       "      <td>86</td>\n",
       "      <td>111.0</td>\n",
       "      <td>Kuusitie</td>\n",
       "      <td>Esterinportti</td>\n",
       "      <td>2020-03-23 06:09:44</td>\n",
       "      <td>2020-03-23 06:16:26</td>\n",
       "      <td>1747.0</td>\n",
       "      <td>6.68</td>\n",
       "      <td>0.261397</td>\n",
       "      <td>0.9</td>\n",
       "    </tr>\n",
       "    <tr>\n",
       "      <th>1</th>\n",
       "      <td>26</td>\n",
       "      <td>10.0</td>\n",
       "      <td>Kamppi (M)</td>\n",
       "      <td>Kasarmitori</td>\n",
       "      <td>2020-03-23 06:11:58</td>\n",
       "      <td>2020-03-23 06:26:31</td>\n",
       "      <td>1447.0</td>\n",
       "      <td>14.48</td>\n",
       "      <td>0.099908</td>\n",
       "      <td>0.9</td>\n",
       "    </tr>\n",
       "    <tr>\n",
       "      <th>2</th>\n",
       "      <td>268</td>\n",
       "      <td>254.0</td>\n",
       "      <td>Porolahden koulu</td>\n",
       "      <td>Agnetankuja</td>\n",
       "      <td>2020-03-23 06:16:29</td>\n",
       "      <td>2020-03-23 06:24:23</td>\n",
       "      <td>1772.0</td>\n",
       "      <td>7.82</td>\n",
       "      <td>0.226695</td>\n",
       "      <td>0.9</td>\n",
       "    </tr>\n",
       "    <tr>\n",
       "      <th>3</th>\n",
       "      <td>751</td>\n",
       "      <td>106.0</td>\n",
       "      <td>Vallipolku</td>\n",
       "      <td>Korppaanmäentie</td>\n",
       "      <td>2020-03-23 06:33:53</td>\n",
       "      <td>2020-03-23 07:14:03</td>\n",
       "      <td>7456.0</td>\n",
       "      <td>40.10</td>\n",
       "      <td>0.185935</td>\n",
       "      <td>0.9</td>\n",
       "    </tr>\n",
       "    <tr>\n",
       "      <th>4</th>\n",
       "      <td>62</td>\n",
       "      <td>121.0</td>\n",
       "      <td>Länsisatamankatu</td>\n",
       "      <td>Vilhonvuorenkatu</td>\n",
       "      <td>2020-03-23 06:36:09</td>\n",
       "      <td>2020-03-23 07:04:10</td>\n",
       "      <td>7120.0</td>\n",
       "      <td>27.98</td>\n",
       "      <td>0.254437</td>\n",
       "      <td>0.9</td>\n",
       "    </tr>\n",
       "  </tbody>\n",
       "</table>\n",
       "</div>"
      ],
      "text/plain": [
       "   departure_id  return_id    departure_name       return_name  \\\n",
       "0            86      111.0          Kuusitie     Esterinportti   \n",
       "1            26       10.0        Kamppi (M)       Kasarmitori   \n",
       "2           268      254.0  Porolahden koulu       Agnetankuja   \n",
       "3           751      106.0        Vallipolku   Korppaanmäentie   \n",
       "4            62      121.0  Länsisatamankatu  Vilhonvuorenkatu   \n",
       "\n",
       "             departure               return  distance (m)  duration (min)  \\\n",
       "0  2020-03-23 06:09:44  2020-03-23 06:16:26        1747.0            6.68   \n",
       "1  2020-03-23 06:11:58  2020-03-23 06:26:31        1447.0           14.48   \n",
       "2  2020-03-23 06:16:29  2020-03-23 06:24:23        1772.0            7.82   \n",
       "3  2020-03-23 06:33:53  2020-03-23 07:14:03        7456.0           40.10   \n",
       "4  2020-03-23 06:36:09  2020-03-23 07:04:10        7120.0           27.98   \n",
       "\n",
       "   avg_speed (km/h)  Air temperature (degC)  \n",
       "0          0.261397                     0.9  \n",
       "1          0.099908                     0.9  \n",
       "2          0.226695                     0.9  \n",
       "3          0.185935                     0.9  \n",
       "4          0.254437                     0.9  "
      ]
     },
     "execution_count": 17,
     "metadata": {},
     "output_type": "execute_result"
    }
   ],
   "source": [
    "df.head()"
   ]
  },
  {
   "cell_type": "code",
   "execution_count": 18,
   "metadata": {},
   "outputs": [
    {
     "data": {
      "text/plain": [
       "<AxesSubplot:>"
      ]
     },
     "execution_count": 18,
     "metadata": {},
     "output_type": "execute_result"
    },
    {
     "data": {
      "image/png": "[encoded data removed]",
      "text/plain": [
       "<Figure size 432x288 with 1 Axes>"
      ]
     },
     "metadata": {
      "needs_background": "light"
     },
     "output_type": "display_data"
    }
   ],
   "source": [
    "df['distance (m)'].plot()"
   ]
  },
  {
   "cell_type": "code",
   "execution_count": 19,
   "metadata": {},
   "outputs": [
    {
     "data": {
      "text/plain": [
       "<AxesSubplot:>"
      ]
     },
     "execution_count": 19,
     "metadata": {},
     "output_type": "execute_result"
    },
    {
     "data": {
      "image/png": "[encoded data removed]",
      "text/plain": [
       "<Figure size 432x288 with 1 Axes>"
      ]
     },
     "metadata": {
      "needs_background": "light"
     },
     "output_type": "display_data"
    }
   ],
   "source": [
    "df['duration (min)'].hist()"
   ]
  },
  {
   "cell_type": "code",
   "execution_count": 20,
   "metadata": {},
   "outputs": [
    {
     "data": {
      "text/plain": [
       "<AxesSubplot:>"
      ]
     },
     "execution_count": 20,
     "metadata": {},
     "output_type": "execute_result"
    },
    {
     "data": {
      "image/png": "[encoded data removed]",
      "text/plain": [
       "<Figure size 432x288 with 1 Axes>"
      ]
     },
     "metadata": {
      "needs_background": "light"
     },
     "output_type": "display_data"
    }
   ],
   "source": [
    "df['avg_speed (km/h)'].hist()"
   ]
  },
  {
   "cell_type": "code",
   "execution_count": 21,
   "metadata": {},
   "outputs": [
    {
     "data": {
      "text/plain": [
       "<AxesSubplot:>"
      ]
     },
     "execution_count": 21,
     "metadata": {},
     "output_type": "execute_result"
    },
    {
     "data": {
      "image/png": "[encoded data removed]",
      "text/plain": [
       "<Figure size 432x288 with 1 Axes>"
      ]
     },
     "metadata": {
      "needs_background": "light"
     },
     "output_type": "display_data"
    }
   ],
   "source": [
    "df['Air temperature (degC)'].hist()"
   ]
  },
  {
   "cell_type": "markdown",
   "metadata": {},
   "source": [
    "Em processo..."
   ]
  }
 ],
 "metadata": {
  "kernelspec": {
   "display_name": "Python 3.10.2 64-bit (system)",
   "language": "python",
   "name": "python3"
  },
  "language_info": {
   "codemirror_mode": {
    "name": "ipython",
    "version": 3
   },
   "file_extension": ".py",
   "mimetype": "text/x-python",
   "name": "python",
   "nbconvert_exporter": "python",
   "pygments_lexer": "ipython3",
   "version": "3.10.2"
  },
  "orig_nbformat": 4,
  "vscode": {
   "interpreter": {
    "hash": "08847cd809ea1806519b0726bda3073ae74c9e65db43ef17041799c477563d0a"
   }
  }
 },
 "nbformat": 4,
 "nbformat_minor": 2
}
